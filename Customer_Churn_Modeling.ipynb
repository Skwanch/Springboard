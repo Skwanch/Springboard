{
 "cells": [
  {
   "cell_type": "code",
   "execution_count": 1,
   "id": "71ae995d-407c-40c2-8fde-c1f85cc3c705",
   "metadata": {
    "execution": {
     "iopub.execute_input": "2025-02-13T03:21:16.976322Z",
     "iopub.status.busy": "2025-02-13T03:21:16.975871Z",
     "iopub.status.idle": "2025-02-13T03:21:19.802605Z",
     "shell.execute_reply": "2025-02-13T03:21:19.800660Z",
     "shell.execute_reply.started": "2025-02-13T03:21:16.976287Z"
    }
   },
   "outputs": [
    {
     "name": "stdout",
     "output_type": "stream",
     "text": [
      "Requirement already satisfied: openpyxl in /opt/conda/lib/python3.11/site-packages (3.1.5)\n",
      "Requirement already satisfied: et-xmlfile in /opt/conda/lib/python3.11/site-packages (from openpyxl) (2.0.0)\n",
      "Note: you may need to restart the kernel to use updated packages.\n"
     ]
    }
   ],
   "source": [
    "pip install openpyxl"
   ]
  },
  {
   "cell_type": "code",
   "execution_count": 2,
   "id": "37b9ccf1-a4bd-443d-bc67-0e11945a3ab9",
   "metadata": {
    "execution": {
     "iopub.execute_input": "2025-02-13T03:21:21.987998Z",
     "iopub.status.busy": "2025-02-13T03:21:21.986623Z",
     "iopub.status.idle": "2025-02-13T03:21:25.151468Z",
     "shell.execute_reply": "2025-02-13T03:21:25.145826Z",
     "shell.execute_reply.started": "2025-02-13T03:21:21.987838Z"
    }
   },
   "outputs": [
    {
     "name": "stdout",
     "output_type": "stream",
     "text": [
      "Requirement already satisfied: s3fs in /opt/conda/lib/python3.11/site-packages (2025.2.0)\n",
      "Requirement already satisfied: aiobotocore<3.0.0,>=2.5.4 in /opt/conda/lib/python3.11/site-packages (from s3fs) (2.13.3)\n",
      "Requirement already satisfied: fsspec==2025.2.0.* in /opt/conda/lib/python3.11/site-packages (from s3fs) (2025.2.0)\n",
      "Requirement already satisfied: aiohttp!=4.0.0a0,!=4.0.0a1 in /opt/conda/lib/python3.11/site-packages (from s3fs) (3.9.5)\n",
      "Requirement already satisfied: botocore<1.34.163,>=1.34.70 in /opt/conda/lib/python3.11/site-packages (from aiobotocore<3.0.0,>=2.5.4->s3fs) (1.34.162)\n",
      "Requirement already satisfied: wrapt<2.0.0,>=1.10.10 in /opt/conda/lib/python3.11/site-packages (from aiobotocore<3.0.0,>=2.5.4->s3fs) (1.17.0)\n",
      "Requirement already satisfied: aioitertools<1.0.0,>=0.5.1 in /opt/conda/lib/python3.11/site-packages (from aiobotocore<3.0.0,>=2.5.4->s3fs) (0.12.0)\n",
      "Requirement already satisfied: aiosignal>=1.1.2 in /opt/conda/lib/python3.11/site-packages (from aiohttp!=4.0.0a0,!=4.0.0a1->s3fs) (1.3.1)\n",
      "Requirement already satisfied: attrs>=17.3.0 in /opt/conda/lib/python3.11/site-packages (from aiohttp!=4.0.0a0,!=4.0.0a1->s3fs) (23.2.0)\n",
      "Requirement already satisfied: frozenlist>=1.1.1 in /opt/conda/lib/python3.11/site-packages (from aiohttp!=4.0.0a0,!=4.0.0a1->s3fs) (1.5.0)\n",
      "Requirement already satisfied: multidict<7.0,>=4.5 in /opt/conda/lib/python3.11/site-packages (from aiohttp!=4.0.0a0,!=4.0.0a1->s3fs) (6.1.0)\n",
      "Requirement already satisfied: yarl<2.0,>=1.0 in /opt/conda/lib/python3.11/site-packages (from aiohttp!=4.0.0a0,!=4.0.0a1->s3fs) (1.18.3)\n",
      "Requirement already satisfied: jmespath<2.0.0,>=0.7.1 in /opt/conda/lib/python3.11/site-packages (from botocore<1.34.163,>=1.34.70->aiobotocore<3.0.0,>=2.5.4->s3fs) (1.0.1)\n",
      "Requirement already satisfied: python-dateutil<3.0.0,>=2.1 in /opt/conda/lib/python3.11/site-packages (from botocore<1.34.163,>=1.34.70->aiobotocore<3.0.0,>=2.5.4->s3fs) (2.9.0.post0)\n",
      "Requirement already satisfied: urllib3!=2.2.0,<3,>=1.25.4 in /opt/conda/lib/python3.11/site-packages (from botocore<1.34.163,>=1.34.70->aiobotocore<3.0.0,>=2.5.4->s3fs) (1.26.19)\n",
      "Requirement already satisfied: idna>=2.0 in /opt/conda/lib/python3.11/site-packages (from yarl<2.0,>=1.0->aiohttp!=4.0.0a0,!=4.0.0a1->s3fs) (3.10)\n",
      "Requirement already satisfied: propcache>=0.2.0 in /opt/conda/lib/python3.11/site-packages (from yarl<2.0,>=1.0->aiohttp!=4.0.0a0,!=4.0.0a1->s3fs) (0.2.1)\n",
      "Requirement already satisfied: six>=1.5 in /opt/conda/lib/python3.11/site-packages (from python-dateutil<3.0.0,>=2.1->botocore<1.34.163,>=1.34.70->aiobotocore<3.0.0,>=2.5.4->s3fs) (1.17.0)\n",
      "Note: you may need to restart the kernel to use updated packages.\n"
     ]
    }
   ],
   "source": [
    "pip install s3fs"
   ]
  },
  {
   "cell_type": "code",
   "execution_count": 3,
   "id": "a621dcf8-c9d6-4a02-8ef6-d89b278bc3af",
   "metadata": {
    "execution": {
     "iopub.execute_input": "2025-02-13T03:22:58.689986Z",
     "iopub.status.busy": "2025-02-13T03:22:58.688485Z",
     "iopub.status.idle": "2025-02-13T03:23:10.912893Z",
     "shell.execute_reply": "2025-02-13T03:23:10.911953Z",
     "shell.execute_reply.started": "2025-02-13T03:22:58.689938Z"
    }
   },
   "outputs": [],
   "source": [
    "import boto3\n",
    "import pandas as pd\n",
    "import numpy as np\n",
    "\n",
    "# Preprocess the dataset\n",
    "\n",
    "df = pd.read_excel(\"storedata_total.xlsx\")\n",
    "# Convert to datetime columns\n",
    "df[\"firstorder\"] = pd.to_datetime(df[\"firstorder\"], errors='coerce')\n",
    "df[\"lastorder\"] = pd.to_datetime(df[\"lastorder\"], errors='coerce')\n",
    "# Drop Rows with null values\n",
    "df = df.dropna()\n",
    "# Create Column which gives the days between the last order and the first order\n",
    "df[\"first_last_days_diff\"] = (df['lastorder']-df['firstorder']).dt.days\n",
    "# Create Column which gives the days between when the customer record was created and the first order\n",
    "df['created'] = pd.to_datetime(df['created'])\n",
    "df['created_first_days_diff'] = (df['created'] - df['firstorder']).dt.days\n",
    "# Drop Columns\n",
    "df.drop(['custid', 'created', 'firstorder', 'lastorder'], axis=1, inplace=True)\n",
    "# Apply one hot encoding on favday and city columns\n",
    "df = pd.get_dummies(df, prefix=['favday', 'city'], columns=['favday', 'city'])\n",
    "\n",
    "storedata = df\n",
    "\n"
   ]
  },
  {
   "cell_type": "code",
   "execution_count": 4,
   "id": "751ec5a3-cf72-49ec-950a-06861b5f87ee",
   "metadata": {
    "execution": {
     "iopub.execute_input": "2025-02-13T03:23:10.915017Z",
     "iopub.status.busy": "2025-02-13T03:23:10.914352Z",
     "iopub.status.idle": "2025-02-13T03:23:15.139065Z",
     "shell.execute_reply": "2025-02-13T03:23:15.137901Z",
     "shell.execute_reply.started": "2025-02-13T03:23:10.914902Z"
    }
   },
   "outputs": [
    {
     "name": "stdout",
     "output_type": "stream",
     "text": [
      "sagemaker.config INFO - Fetched defaults config from location: /etc/xdg/sagemaker/config.yaml\n",
      "sagemaker.config INFO - Not applying SDK defaults from location: /home/sagemaker-user/.config/sagemaker/config.yaml\n",
      "sagemaker.config INFO - Applied value from config key = SageMaker.PythonSDK.Modules.Session.DefaultS3Bucket\n",
      "sagemaker.config INFO - Applied value from config key = SageMaker.PythonSDK.Modules.Session.DefaultS3ObjectKeyPrefix\n",
      "sagemaker.config INFO - Applied value from config key = SageMaker.PythonSDK.Modules.Session.DefaultS3Bucket\n",
      "sagemaker.config INFO - Applied value from config key = SageMaker.PythonSDK.Modules.Session.DefaultS3ObjectKeyPrefix\n",
      "arn:aws:iam::438465168169:role/datazone_usr_role_dey1k5789rqn1j_6lz335u9nebcx3\n"
     ]
    }
   ],
   "source": [
    "def split_datasets(df):\n",
    "    y = df.pop(\"retained\")\n",
    "    X_pre = df\n",
    "    y_pre = y.to_numpy().reshape(len(y), 1)\n",
    "    feature_names = list(X_pre.columns)\n",
    "    X = np.concatenate((y_pre, X_pre), axis=1)\n",
    "    np.random.shuffle(X)\n",
    "    train, validation, test = np.split(X, [int(.7*len(X)), int(.85*len(X))])\n",
    "    return feature_names, train, validation, test\n",
    "\n",
    "\n",
    "# Split dataset\n",
    "feature_names, train, validation, test = split_datasets(storedata)\n",
    "\n",
    "\n",
    "# Save datasets in Amazon S3\n",
    "default_bucket = \"amazon-sagemaker-438465168169-us-east-1-e9eb0fb68840\"\n",
    "\n",
    "\n",
    "import boto3\n",
    "from sagemaker import get_execution_role \n",
    "\n",
    "role = get_execution_role()\n",
    "print(role)\n",
    "\n",
    "\n",
    "pd.DataFrame(train).to_csv(f\"s3://{default_bucket}/dzd_4gqe4c7fmeaa5j/dey1k5789rqn1j/dev/train/train.csv\",header=False,index=False)\n",
    "pd.DataFrame(validation).to_csv(f\"s3://{default_bucket}/dzd_4gqe4c7fmeaa5j/dey1k5789rqn1j/dev/validation/validation.csv\",header=False,index=False)\n",
    "pd.DataFrame(test).to_csv(f\"s3://{default_bucket}/dzd_4gqe4c7fmeaa5j/dey1k5789rqn1j/dev/test/test.csv\",header=False,index=False)"
   ]
  },
  {
   "cell_type": "code",
   "execution_count": 5,
   "id": "9965d332-474a-495c-b1a5-2605389a1377",
   "metadata": {
    "execution": {
     "iopub.execute_input": "2025-02-13T03:23:15.150205Z",
     "iopub.status.busy": "2025-02-13T03:23:15.149151Z",
     "iopub.status.idle": "2025-02-13T03:29:17.027525Z",
     "shell.execute_reply": "2025-02-13T03:29:17.025035Z",
     "shell.execute_reply.started": "2025-02-13T03:23:15.150169Z"
    }
   },
   "outputs": [
    {
     "name": "stdout",
     "output_type": "stream",
     "text": [
      "sagemaker.config INFO - Applied value from config key = SageMaker.PythonSDK.Modules.Session.DefaultS3Bucket\n",
      "sagemaker.config INFO - Applied value from config key = SageMaker.PythonSDK.Modules.Session.DefaultS3ObjectKeyPrefix\n",
      "sagemaker.config INFO - Applied value from config key = SageMaker.TrainingJob.VpcConfig.Subnets\n",
      "sagemaker.config INFO - Applied value from config key = SageMaker.TrainingJob.VpcConfig.SecurityGroupIds\n",
      ".....................................................................!\n",
      "10 training jobs have completed\n",
      "Best Model found so far:\n",
      "{'CreationTime': datetime.datetime(2025, 2, 13, 3, 28, 10, tzinfo=tzlocal()),\n",
      " 'FinalHyperParameterTuningJobObjectiveMetric': {'MetricName': 'validation:auc',\n",
      "                                                 'Value': 0.97816002368927},\n",
      " 'ObjectiveStatus': 'Succeeded',\n",
      " 'TrainingEndTime': datetime.datetime(2025, 2, 13, 3, 28, 48, tzinfo=tzlocal()),\n",
      " 'TrainingJobArn': 'arn:aws:sagemaker:us-east-1:438465168169:training-job/sagemaker-xgboost-250213-0323-009-1df78714',\n",
      " 'TrainingJobName': 'sagemaker-xgboost-250213-0323-009-1df78714',\n",
      " 'TrainingJobStatus': 'Completed',\n",
      " 'TrainingStartTime': datetime.datetime(2025, 2, 13, 3, 28, 19, tzinfo=tzlocal()),\n",
      " 'TunedHyperParameters': {'alpha': '1.4604161302655836',\n",
      "                          'eta': '0.7676764286989209',\n",
      "                          'max_depth': '2',\n",
      "                          'min_child_weight': '4.110095782504155'}}\n"
     ]
    }
   ],
   "source": [
    "import sagemaker\n",
    "from sagemaker.inputs import TrainingInput\n",
    "from sagemaker.tuner import IntegerParameter, ContinuousParameter, HyperparameterTuner\n",
    "\n",
    "# Training and Validation Input for SageMaker Training job\n",
    "s3_input_train = TrainingInput(\n",
    "    s3_data=f\"s3://{default_bucket}/dzd_4gqe4c7fmeaa5j/dey1k5789rqn1j/dev/train/\", content_type=\"csv\")\n",
    "s3_input_validation = TrainingInput(\n",
    "    s3_data=f\"s3://{default_bucket}/dzd_4gqe4c7fmeaa5j/dey1k5789rqn1j/dev/validation/\", content_type=\"csv\")\n",
    "\n",
    "# Hyperparameter used\n",
    "fixed_hyperparameters = {\n",
    "    \"eval_metric\":\"auc\",\n",
    "    \"objective\":\"binary:logistic\",\n",
    "    \"num_round\":\"100\",\n",
    "    \"rate_drop\":\"0.3\",\n",
    "    \"tweedie_variance_power\":\"1.4\"\n",
    "}\n",
    "\n",
    "# Use the built-in SageMaker algorithm\n",
    "\n",
    "sess = sagemaker.Session()\n",
    "container = sagemaker.image_uris.retrieve(\"xgboost\", \"us-east-1\" ,\"1.2-2\")\n",
    "\n",
    "estimator = sagemaker.estimator.Estimator(\n",
    "    container,\n",
    "    role,\n",
    "    instance_count=1,\n",
    "    hyperparameters=fixed_hyperparameters,\n",
    "    instance_type=\"ml.m5.xlarge\",\n",
    "    output_path=\"s3://{}/dzd_4gqe4c7fmeaa5j/dey1k5789rqn1j/dev/output\".format(default_bucket),\n",
    "    sagemaker_session=sess\n",
    ")\n",
    "\n",
    "hyperparameter_ranges = {\n",
    "    \"eta\": ContinuousParameter(0, 1),\n",
    "    \"min_child_weight\": ContinuousParameter(1, 10),\n",
    "    \"alpha\": ContinuousParameter(0, 2),\n",
    "    \"max_depth\": IntegerParameter(1, 10),\n",
    "}\n",
    "objective_metric_name = \"validation:auc\"\n",
    "tuner = HyperparameterTuner(\n",
    "    estimator, objective_metric_name,\n",
    "    hyperparameter_ranges, max_jobs=10, max_parallel_jobs=2)\n",
    "\n",
    "# Tune\n",
    "tuner.fit({\n",
    "    \"train\":s3_input_train,\n",
    "    \"validation\":s3_input_validation\n",
    "    },include_cls_metadata=False)\n",
    "\n",
    "## Explore the best model generated\n",
    "tuning_job_result = boto3.client(\"sagemaker\").describe_hyper_parameter_tuning_job(\n",
    "    HyperParameterTuningJobName=tuner.latest_tuning_job.job_name\n",
    ")\n",
    "\n",
    "job_count = tuning_job_result[\"TrainingJobStatusCounters\"][\"Completed\"]\n",
    "print(\"%d training jobs have completed\" %job_count)\n",
    "## 10 training jobs have completed\n",
    "\n",
    "## Get the best training job\n",
    "\n",
    "from pprint import pprint\n",
    "if tuning_job_result.get(\"BestTrainingJob\",None):\n",
    "    print(\"Best Model found so far:\")\n",
    "    pprint(tuning_job_result[\"BestTrainingJob\"])\n",
    "else:\n",
    "    print(\"No training jobs have reported results yet.\")"
   ]
  },
  {
   "cell_type": "code",
   "execution_count": null,
   "id": "caf81774-bcad-4052-ab1a-88b98e510128",
   "metadata": {},
   "outputs": [],
   "source": []
  }
 ],
 "metadata": {
  "kernelspec": {
   "display_name": "Python 3 (ipykernel)",
   "language": "python",
   "name": "python3"
  },
  "language_info": {
   "codemirror_mode": {
    "name": "ipython",
    "version": 3
   },
   "file_extension": ".py",
   "mimetype": "text/x-python",
   "name": "python",
   "nbconvert_exporter": "python",
   "pygments_lexer": "ipython3",
   "version": "3.11.11"
  }
 },
 "nbformat": 4,
 "nbformat_minor": 5
}
