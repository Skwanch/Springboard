{
 "cells": [
  {
   "cell_type": "markdown",
   "metadata": {},
   "source": [
    "## Step 1: Import Packages and Declare Constants"
   ]
  },
  {
   "cell_type": "code",
   "execution_count": 106,
   "metadata": {
    "execution": {
     "iopub.execute_input": "2025-02-14T15:00:57.606477Z",
     "iopub.status.busy": "2025-02-14T15:00:57.605736Z",
     "iopub.status.idle": "2025-02-14T15:01:00.105540Z",
     "shell.execute_reply": "2025-02-14T15:01:00.098345Z",
     "shell.execute_reply.started": "2025-02-14T15:00:57.606450Z"
    }
   },
   "outputs": [
    {
     "name": "stdout",
     "output_type": "stream",
     "text": [
      "Requirement already satisfied: openpyxl in /opt/conda/lib/python3.11/site-packages (3.1.5)\n",
      "Requirement already satisfied: et-xmlfile in /opt/conda/lib/python3.11/site-packages (from openpyxl) (2.0.0)\n",
      "Note: you may need to restart the kernel to use updated packages.\n"
     ]
    }
   ],
   "source": [
    "pip install openpyxl"
   ]
  },
  {
   "cell_type": "code",
   "execution_count": 107,
   "metadata": {
    "execution": {
     "iopub.execute_input": "2025-02-14T15:01:00.112702Z",
     "iopub.status.busy": "2025-02-14T15:01:00.108866Z",
     "iopub.status.idle": "2025-02-14T15:01:00.120915Z",
     "shell.execute_reply": "2025-02-14T15:01:00.119674Z",
     "shell.execute_reply.started": "2025-02-14T15:01:00.112646Z"
    }
   },
   "outputs": [],
   "source": [
    "import boto3\n",
    "import sagemaker\n",
    "import datetime as dt\n",
    "import pandas as pd"
   ]
  },
  {
   "cell_type": "code",
   "execution_count": 108,
   "metadata": {
    "execution": {
     "iopub.execute_input": "2025-02-14T15:01:00.122627Z",
     "iopub.status.busy": "2025-02-14T15:01:00.122159Z",
     "iopub.status.idle": "2025-02-14T15:01:00.131858Z",
     "shell.execute_reply": "2025-02-14T15:01:00.130112Z",
     "shell.execute_reply.started": "2025-02-14T15:01:00.122593Z"
    }
   },
   "outputs": [],
   "source": [
    "#Replace this value with the S3 Bucket Created\n",
    "default_bucket = \"amazon-sagemaker-438465168169-us-east-1-e9eb0fb68840\""
   ]
  },
  {
   "cell_type": "code",
   "execution_count": 109,
   "metadata": {
    "execution": {
     "iopub.execute_input": "2025-02-14T15:01:00.139653Z",
     "iopub.status.busy": "2025-02-14T15:01:00.133809Z",
     "iopub.status.idle": "2025-02-14T15:01:03.476439Z",
     "shell.execute_reply": "2025-02-14T15:01:03.475124Z",
     "shell.execute_reply.started": "2025-02-14T15:01:00.139603Z"
    }
   },
   "outputs": [
    {
     "name": "stdout",
     "output_type": "stream",
     "text": [
      "sagemaker.config INFO - Applied value from config key = SageMaker.PythonSDK.Modules.Session.DefaultS3Bucket\n",
      "sagemaker.config INFO - Applied value from config key = SageMaker.PythonSDK.Modules.Session.DefaultS3ObjectKeyPrefix\n",
      "sagemaker.config INFO - Applied value from config key = SageMaker.PythonSDK.Modules.Session.DefaultS3Bucket\n",
      "sagemaker.config INFO - Applied value from config key = SageMaker.PythonSDK.Modules.Session.DefaultS3ObjectKeyPrefix\n"
     ]
    }
   ],
   "source": [
    "region = boto3.Session().region_name\n",
    "role = sagemaker.get_execution_role()\n",
    "sagemaker_session = sagemaker.Session()\n",
    "sklearn_processor_version=\"0.23-1\"\n",
    "model_package_group_name=\"ChurnModelPackageGroup\"\n",
    "pipeline_name= \"ChurnModelSMPipeline\"\n",
    "clarify_image = sagemaker.image_uris.retrieve(framework='sklearn',version=sklearn_processor_version,region=region)"
   ]
  },
  {
   "cell_type": "markdown",
   "metadata": {},
   "source": [
    "## Step 2: Generate Baseline Dataset\n",
    "\n",
    "Baseline Data will be used as part of SageMaker Clarify Step to generate SHAP Values "
   ]
  },
  {
   "cell_type": "code",
   "execution_count": 110,
   "metadata": {
    "execution": {
     "iopub.execute_input": "2025-02-14T15:01:03.489521Z",
     "iopub.status.busy": "2025-02-14T15:01:03.489016Z",
     "iopub.status.idle": "2025-02-14T15:01:03.498937Z",
     "shell.execute_reply": "2025-02-14T15:01:03.496712Z",
     "shell.execute_reply.started": "2025-02-14T15:01:03.489492Z"
    }
   },
   "outputs": [],
   "source": [
    "def preprocess_data(file_path):\n",
    "    df = pd.read_excel(file_path)\n",
    "    ## Convert to datetime columns\n",
    "    df[\"firstorder\"]=pd.to_datetime(df[\"firstorder\"],errors='coerce')\n",
    "    df[\"lastorder\"] = pd.to_datetime(df[\"lastorder\"],errors='coerce')\n",
    "    ## Drop Rows with null values\n",
    "    df = df.dropna()\n",
    "    ## Create Column which gives the days between the last order and the first order\n",
    "    df[\"first_last_days_diff\"] = (df['lastorder']-df['firstorder']).dt.days\n",
    "    ## Create Column which gives the days between when the customer record was created and the first order\n",
    "    df['created'] = pd.to_datetime(df['created'])\n",
    "    df['created_first_days_diff']=(df['created']-df['firstorder']).dt.days\n",
    "    ## Drop Columns\n",
    "    df.drop(['custid','created','firstorder','lastorder'],axis=1,inplace=True)\n",
    "    ## Apply one hot encoding on favday and city columns\n",
    "    df = pd.get_dummies(df,prefix=['favday','city'],columns=['favday','city'])\n",
    "    return df"
   ]
  },
  {
   "cell_type": "code",
   "execution_count": 111,
   "metadata": {
    "execution": {
     "iopub.execute_input": "2025-02-14T15:01:03.608189Z",
     "iopub.status.busy": "2025-02-14T15:01:03.607580Z",
     "iopub.status.idle": "2025-02-14T15:01:13.265547Z",
     "shell.execute_reply": "2025-02-14T15:01:13.264802Z",
     "shell.execute_reply.started": "2025-02-14T15:01:03.608026Z"
    }
   },
   "outputs": [],
   "source": [
    "baseline_data = preprocess_data(\"storedata_total.xlsx\")\n",
    "baseline_data.pop(\"retained\")\n",
    "baseline_sample = baseline_data.sample(frac=0.0002)"
   ]
  },
  {
   "cell_type": "code",
   "execution_count": 112,
   "metadata": {
    "execution": {
     "iopub.execute_input": "2025-02-14T15:01:13.267203Z",
     "iopub.status.busy": "2025-02-14T15:01:13.266909Z",
     "iopub.status.idle": "2025-02-14T15:01:13.273358Z",
     "shell.execute_reply": "2025-02-14T15:01:13.272551Z",
     "shell.execute_reply.started": "2025-02-14T15:01:13.267176Z"
    }
   },
   "outputs": [],
   "source": [
    "pd.DataFrame(baseline_sample).to_csv(\"baseline.csv\",header=False,index=False)"
   ]
  },
  {
   "cell_type": "markdown",
   "metadata": {},
   "source": [
    "## Step 3: Generate Batch Dataset"
   ]
  },
  {
   "cell_type": "code",
   "execution_count": 113,
   "metadata": {
    "execution": {
     "iopub.execute_input": "2025-02-14T15:01:13.279729Z",
     "iopub.status.busy": "2025-02-14T15:01:13.279261Z",
     "iopub.status.idle": "2025-02-14T15:01:22.023202Z",
     "shell.execute_reply": "2025-02-14T15:01:22.022478Z",
     "shell.execute_reply.started": "2025-02-14T15:01:13.279706Z"
    }
   },
   "outputs": [],
   "source": [
    "batch_data = preprocess_data(\"storedata_total.xlsx\")\n",
    "batch_data.pop(\"retained\")\n",
    "batch_sample = batch_data.sample(frac=0.2)"
   ]
  },
  {
   "cell_type": "code",
   "execution_count": 114,
   "metadata": {
    "execution": {
     "iopub.execute_input": "2025-02-14T15:01:22.024709Z",
     "iopub.status.busy": "2025-02-14T15:01:22.024311Z",
     "iopub.status.idle": "2025-02-14T15:01:22.076878Z",
     "shell.execute_reply": "2025-02-14T15:01:22.076140Z",
     "shell.execute_reply.started": "2025-02-14T15:01:22.024681Z"
    }
   },
   "outputs": [],
   "source": [
    "pd.DataFrame(batch_sample).to_csv(\"batch.csv\",header=False,index=False)"
   ]
  },
  {
   "cell_type": "markdown",
   "metadata": {},
   "source": [
    "## Step 4: Copy Data and Scripts to S3 Bucket"
   ]
  },
  {
   "cell_type": "code",
   "execution_count": 115,
   "metadata": {
    "execution": {
     "iopub.execute_input": "2025-02-14T15:01:22.080460Z",
     "iopub.status.busy": "2025-02-14T15:01:22.079970Z",
     "iopub.status.idle": "2025-02-14T15:01:30.952877Z",
     "shell.execute_reply": "2025-02-14T15:01:30.951888Z",
     "shell.execute_reply.started": "2025-02-14T15:01:22.080429Z"
    }
   },
   "outputs": [],
   "source": [
    "df = pd.read_excel(\"storedata_total.xlsx\")\n",
    "df.to_csv(\"storedata_total.csv\", index=False)"
   ]
  },
  {
   "cell_type": "code",
   "execution_count": 116,
   "metadata": {
    "execution": {
     "iopub.execute_input": "2025-02-14T15:01:30.956508Z",
     "iopub.status.busy": "2025-02-14T15:01:30.956029Z",
     "iopub.status.idle": "2025-02-14T15:01:31.277993Z",
     "shell.execute_reply": "2025-02-14T15:01:31.277044Z",
     "shell.execute_reply.started": "2025-02-14T15:01:30.956482Z"
    }
   },
   "outputs": [],
   "source": [
    "s3_client = boto3.resource('s3')\n",
    "s3_client.Bucket(default_bucket).upload_file(\"storedata_total.csv\",\"dzd_4gqe4c7fmeaa5j/dey1k5789rqn1j/dev/data/storedata_total.csv\")\n",
    "s3_client.Bucket(default_bucket).upload_file(\"batch.csv\",\"dzd_4gqe4c7fmeaa5j/dey1k5789rqn1j/dev/data/batch/batch.csv\")\n",
    "s3_client.Bucket(default_bucket).upload_file(\"baseline.csv\",\"dzd_4gqe4c7fmeaa5j/dey1k5789rqn1j/dev/input/baseline/baseline.csv\")"
   ]
  },
  {
   "cell_type": "code",
   "execution_count": 117,
   "metadata": {
    "execution": {
     "iopub.execute_input": "2025-02-14T15:01:31.279563Z",
     "iopub.status.busy": "2025-02-14T15:01:31.279051Z",
     "iopub.status.idle": "2025-02-14T15:01:31.427866Z",
     "shell.execute_reply": "2025-02-14T15:01:31.427172Z",
     "shell.execute_reply.started": "2025-02-14T15:01:31.279535Z"
    }
   },
   "outputs": [],
   "source": [
    "s3_client.Bucket(default_bucket).upload_file(\"pipelines/preprocess.py\",\"dzd_4gqe4c7fmeaa5j/dey1k5789rqn1j/dev/input/code/preprocess.py\")\n",
    "s3_client.Bucket(default_bucket).upload_file(\"pipelines/evaluate.py\",\"dzd_4gqe4c7fmeaa5j/dey1k5789rqn1j/dev/input/code/evaluate.py\")\n",
    "s3_client.Bucket(default_bucket).upload_file(\"pipelines/generate_config.py\",\"dzd_4gqe4c7fmeaa5j/dey1k5789rqn1j/dev/input/code/generate_config.py\")"
   ]
  },
  {
   "cell_type": "markdown",
   "metadata": {},
   "source": [
    "## Step 5: Get the Pipeline Instance"
   ]
  },
  {
   "cell_type": "code",
   "execution_count": 118,
   "metadata": {
    "execution": {
     "iopub.execute_input": "2025-02-14T15:02:25.450515Z",
     "iopub.status.busy": "2025-02-14T15:02:25.449906Z",
     "iopub.status.idle": "2025-02-14T15:02:33.859674Z",
     "shell.execute_reply": "2025-02-14T15:02:33.858957Z",
     "shell.execute_reply.started": "2025-02-14T15:02:25.450490Z"
    }
   },
   "outputs": [
    {
     "name": "stdout",
     "output_type": "stream",
     "text": [
      "sagemaker.config INFO - Applied value from config key = SageMaker.PythonSDK.Modules.Session.DefaultS3ObjectKeyPrefix\n",
      "sagemaker.config INFO - Applied value from config key = SageMaker.ProcessingJob.NetworkConfig.VpcConfig.Subnets\n",
      "sagemaker.config INFO - Applied value from config key = SageMaker.ProcessingJob.NetworkConfig.VpcConfig.SecurityGroupIds\n",
      "sagemaker.config INFO - Applied value from config key = SageMaker.TrainingJob.VpcConfig.Subnets\n",
      "sagemaker.config INFO - Applied value from config key = SageMaker.TrainingJob.VpcConfig.SecurityGroupIds\n",
      "sagemaker.config INFO - Applied value from config key = SageMaker.ProcessingJob.NetworkConfig.VpcConfig.Subnets\n",
      "sagemaker.config INFO - Applied value from config key = SageMaker.ProcessingJob.NetworkConfig.VpcConfig.SecurityGroupIds\n",
      "sagemaker.config INFO - Applied value from config key = SageMaker.Model.VpcConfig\n",
      "sagemaker.config INFO - Applied value from config key = SageMaker.PythonSDK.Modules.Session.DefaultS3Bucket\n",
      "sagemaker.config INFO - Applied value from config key = SageMaker.PythonSDK.Modules.Session.DefaultS3ObjectKeyPrefix\n",
      "sagemaker.config INFO - Applied value from config key = SageMaker.ProcessingJob.NetworkConfig.VpcConfig.Subnets\n",
      "sagemaker.config INFO - Applied value from config key = SageMaker.ProcessingJob.NetworkConfig.VpcConfig.SecurityGroupIds\n",
      "sagemaker.config INFO - Applied value from config key = SageMaker.ProcessingJob.NetworkConfig.VpcConfig.Subnets\n",
      "sagemaker.config INFO - Applied value from config key = SageMaker.ProcessingJob.NetworkConfig.VpcConfig.SecurityGroupIds\n"
     ]
    }
   ],
   "source": [
    "from pipelines.pipeline import get_pipeline\n",
    "\n",
    "pipeline = get_pipeline(\n",
    "    region = region,\n",
    "    role=role,\n",
    "    default_bucket=f\"{default_bucket}/dzd_4gqe4c7fmeaa5j/dey1k5789rqn1j/dev\",\n",
    "    model_package_group_name=model_package_group_name,\n",
    "    pipeline_name=pipeline_name,\n",
    "    custom_image_uri=clarify_image,\n",
    "    sklearn_processor_version=sklearn_processor_version\n",
    ")"
   ]
  },
  {
   "cell_type": "code",
   "execution_count": 119,
   "metadata": {
    "execution": {
     "iopub.execute_input": "2025-02-14T15:02:37.091970Z",
     "iopub.status.busy": "2025-02-14T15:02:37.091595Z",
     "iopub.status.idle": "2025-02-14T15:02:38.081491Z",
     "shell.execute_reply": "2025-02-14T15:02:38.080705Z",
     "shell.execute_reply.started": "2025-02-14T15:02:37.091945Z"
    }
   },
   "outputs": [
    {
     "data": {
      "text/plain": [
       "'{\"Version\": \"2020-12-01\", \"Metadata\": {}, \"Parameters\": [{\"Name\": \"ProcessingInstanceType\", \"Type\": \"String\", \"DefaultValue\": \"ml.c4.xlarge\"}, {\"Name\": \"ProcessingInstanceCount\", \"Type\": \"Integer\", \"DefaultValue\": 1}, {\"Name\": \"TrainingInstanceType\", \"Type\": \"String\", \"DefaultValue\": \"ml.c4.xlarge\"}, {\"Name\": \"InputData\", \"Type\": \"String\", \"DefaultValue\": \"s3://amazon-sagemaker-438465168169-us-east-1-e9eb0fb68840/dzd_4gqe4c7fmeaa5j/dey1k5789rqn1j/dev/data/storedata_total.csv\"}, {\"Name\": \"BatchData\", \"Type\": \"String\", \"DefaultValue\": \"s3://amazon-sagemaker-438465168169-us-east-1-e9eb0fb68840/dzd_4gqe4c7fmeaa5j/dey1k5789rqn1j/dev/data/batch/batch.csv\"}], \"PipelineExperimentConfig\": {\"ExperimentName\": {\"Get\": \"Execution.PipelineName\"}, \"TrialName\": {\"Get\": \"Execution.PipelineExecutionId\"}}, \"Steps\": [{\"Name\": \"ChurnModelProcess\", \"Type\": \"Processing\", \"Arguments\": {\"ProcessingResources\": {\"ClusterConfig\": {\"InstanceType\": {\"Get\": \"Parameters.ProcessingInstanceType\"}, \"InstanceCount\": {\"Get\": \"Parameters.ProcessingInstanceCount\"}, \"VolumeSizeInGB\": 30}}, \"AppSpecification\": {\"ImageUri\": \"683313688378.dkr.ecr.us-east-1.amazonaws.com/sagemaker-scikit-learn:0.23-1-cpu-py3\", \"ContainerEntrypoint\": [\"python3\", \"/opt/ml/processing/input/code/preprocess.py\"]}, \"RoleArn\": \"arn:aws:iam::438465168169:role/datazone_usr_role_dey1k5789rqn1j_6lz335u9nebcx3\", \"ProcessingInputs\": [{\"InputName\": \"input-1\", \"AppManaged\": false, \"S3Input\": {\"S3Uri\": {\"Get\": \"Parameters.InputData\"}, \"LocalPath\": \"/opt/ml/processing/input\", \"S3DataType\": \"S3Prefix\", \"S3InputMode\": \"File\", \"S3DataDistributionType\": \"FullyReplicated\", \"S3CompressionType\": \"None\"}}, {\"InputName\": \"code\", \"AppManaged\": false, \"S3Input\": {\"S3Uri\": \"s3://amazon-sagemaker-438465168169-us-east-1-e9eb0fb68840/dzd_4gqe4c7fmeaa5j/dey1k5789rqn1j/dev/input/code/preprocess.py\", \"LocalPath\": \"/opt/ml/processing/input/code\", \"S3DataType\": \"S3Prefix\", \"S3InputMode\": \"File\", \"S3DataDistributionType\": \"FullyReplicated\", \"S3CompressionType\": \"None\"}}], \"ProcessingOutputConfig\": {\"Outputs\": [{\"OutputName\": \"train\", \"AppManaged\": false, \"S3Output\": {\"S3Uri\": \"s3://amazon-sagemaker-438465168169-us-east-1-e9eb0fb68840/dzd_4gqe4c7fmeaa5j/dey1k5789rqn1j/dev/output/train\", \"LocalPath\": \"/opt/ml/processing/train\", \"S3UploadMode\": \"EndOfJob\"}}, {\"OutputName\": \"validation\", \"AppManaged\": false, \"S3Output\": {\"S3Uri\": \"s3://amazon-sagemaker-438465168169-us-east-1-e9eb0fb68840/dzd_4gqe4c7fmeaa5j/dey1k5789rqn1j/dev/output/validation\", \"LocalPath\": \"/opt/ml/processing/validation\", \"S3UploadMode\": \"EndOfJob\"}}, {\"OutputName\": \"test\", \"AppManaged\": false, \"S3Output\": {\"S3Uri\": \"s3://amazon-sagemaker-438465168169-us-east-1-e9eb0fb68840/dzd_4gqe4c7fmeaa5j/dey1k5789rqn1j/dev/output/test\", \"LocalPath\": \"/opt/ml/processing/test\", \"S3UploadMode\": \"EndOfJob\"}}]}, \"NetworkConfig\": {\"EnableNetworkIsolation\": false, \"VpcConfig\": {\"SecurityGroupIds\": [\"sg-0cc113a078fb1b90a\"], \"Subnets\": [\"subnet-0a7e6c8002183f891\", \"subnet-0affcee975da0032f\", \"subnet-0e411c710311dfd23\", \"subnet-0de3041d8f9ab07f8\"]}}}}, {\"Name\": \"ChurnHyperParameterTuning\", \"Type\": \"Tuning\", \"Arguments\": {\"HyperParameterTuningJobConfig\": {\"Strategy\": \"Bayesian\", \"ResourceLimits\": {\"MaxNumberOfTrainingJobs\": 2, \"MaxParallelTrainingJobs\": 2}, \"TrainingJobEarlyStoppingType\": \"Off\", \"HyperParameterTuningJobObjective\": {\"Type\": \"Maximize\", \"MetricName\": \"validation:auc\"}, \"ParameterRanges\": {\"ContinuousParameterRanges\": [{\"Name\": \"eta\", \"MinValue\": \"0\", \"MaxValue\": \"1\", \"ScalingType\": \"Auto\"}, {\"Name\": \"min_child_weight\", \"MinValue\": \"1\", \"MaxValue\": \"10\", \"ScalingType\": \"Auto\"}, {\"Name\": \"alpha\", \"MinValue\": \"0\", \"MaxValue\": \"2\", \"ScalingType\": \"Auto\"}], \"CategoricalParameterRanges\": [], \"IntegerParameterRanges\": [{\"Name\": \"max_depth\", \"MinValue\": \"1\", \"MaxValue\": \"10\", \"ScalingType\": \"Auto\"}]}}, \"TrainingJobDefinition\": {\"StaticHyperParameters\": {\"eval_metric\": \"auc\", \"objective\": \"binary:logistic\", \"num_round\": \"100\", \"rate_drop\": \"0.3\", \"tweedie_variance_power\": \"1.4\"}, \"RoleArn\": \"arn:aws:iam::438465168169:role/datazone_usr_role_dey1k5789rqn1j_6lz335u9nebcx3\", \"OutputDataConfig\": {\"S3OutputPath\": \"s3://amazon-sagemaker-438465168169-us-east-1-e9eb0fb68840/dzd_4gqe4c7fmeaa5j/dey1k5789rqn1j/dev/output\"}, \"StoppingCondition\": {\"MaxRuntimeInSeconds\": 86400}, \"HyperParameterTuningResourceConfig\": {\"InstanceCount\": 1, \"InstanceType\": {\"Get\": \"Parameters.TrainingInstanceType\"}, \"VolumeSizeInGB\": 30}, \"AlgorithmSpecification\": {\"TrainingInputMode\": \"File\", \"TrainingImage\": \"683313688378.dkr.ecr.us-east-1.amazonaws.com/sagemaker-xgboost:1.0-1-cpu-py3\"}, \"InputDataConfig\": [{\"DataSource\": {\"S3DataSource\": {\"S3DataType\": \"S3Prefix\", \"S3Uri\": {\"Get\": \"Steps.ChurnModelProcess.ProcessingOutputConfig.Outputs[\\'train\\'].S3Output.S3Uri\"}, \"S3DataDistributionType\": \"FullyReplicated\"}}, \"ContentType\": \"text/csv\", \"ChannelName\": \"train\"}, {\"DataSource\": {\"S3DataSource\": {\"S3DataType\": \"S3Prefix\", \"S3Uri\": {\"Get\": \"Steps.ChurnModelProcess.ProcessingOutputConfig.Outputs[\\'validation\\'].S3Output.S3Uri\"}, \"S3DataDistributionType\": \"FullyReplicated\"}}, \"ContentType\": \"text/csv\", \"ChannelName\": \"validation\"}], \"VpcConfig\": {\"Subnets\": [\"subnet-0a7e6c8002183f891\", \"subnet-0affcee975da0032f\", \"subnet-0e411c710311dfd23\", \"subnet-0de3041d8f9ab07f8\"], \"SecurityGroupIds\": [\"sg-0cc113a078fb1b90a\"]}}}}, {\"Name\": \"ChurnEvalBestModel\", \"Type\": \"Processing\", \"Arguments\": {\"ProcessingResources\": {\"ClusterConfig\": {\"InstanceType\": {\"Get\": \"Parameters.ProcessingInstanceType\"}, \"InstanceCount\": 1, \"VolumeSizeInGB\": 30}}, \"AppSpecification\": {\"ImageUri\": \"683313688378.dkr.ecr.us-east-1.amazonaws.com/sagemaker-xgboost:1.0-1-cpu-py3\", \"ContainerEntrypoint\": [\"python3\", \"/opt/ml/processing/input/code/evaluate.py\"]}, \"RoleArn\": \"arn:aws:iam::438465168169:role/datazone_usr_role_dey1k5789rqn1j_6lz335u9nebcx3\", \"ProcessingInputs\": [{\"InputName\": \"input-1\", \"AppManaged\": false, \"S3Input\": {\"S3Uri\": {\"Std:Join\": {\"On\": \"/\", \"Values\": [\"s3:/\", \"amazon-sagemaker-438465168169-us-east-1-e9eb0fb68840/dzd_4gqe4c7fmeaa5j/dey1k5789rqn1j/dev\", \"output\", {\"Get\": \"Steps.ChurnHyperParameterTuning.TrainingJobSummaries[0].TrainingJobName\"}, \"output/model.tar.gz\"]}}, \"LocalPath\": \"/opt/ml/processing/model\", \"S3DataType\": \"S3Prefix\", \"S3InputMode\": \"File\", \"S3DataDistributionType\": \"FullyReplicated\", \"S3CompressionType\": \"None\"}}, {\"InputName\": \"input-2\", \"AppManaged\": false, \"S3Input\": {\"S3Uri\": {\"Get\": \"Steps.ChurnModelProcess.ProcessingOutputConfig.Outputs[\\'test\\'].S3Output.S3Uri\"}, \"LocalPath\": \"/opt/ml/processing/test\", \"S3DataType\": \"S3Prefix\", \"S3InputMode\": \"File\", \"S3DataDistributionType\": \"FullyReplicated\", \"S3CompressionType\": \"None\"}}, {\"InputName\": \"code\", \"AppManaged\": false, \"S3Input\": {\"S3Uri\": \"s3://amazon-sagemaker-438465168169-us-east-1-e9eb0fb68840/dzd_4gqe4c7fmeaa5j/dey1k5789rqn1j/dev/input/code/evaluate.py\", \"LocalPath\": \"/opt/ml/processing/input/code\", \"S3DataType\": \"S3Prefix\", \"S3InputMode\": \"File\", \"S3DataDistributionType\": \"FullyReplicated\", \"S3CompressionType\": \"None\"}}], \"ProcessingOutputConfig\": {\"Outputs\": [{\"OutputName\": \"evaluation\", \"AppManaged\": false, \"S3Output\": {\"S3Uri\": \"s3://amazon-sagemaker-438465168169-us-east-1-e9eb0fb68840/dzd_4gqe4c7fmeaa5j/dey1k5789rqn1j/dev/output/evaluation\", \"LocalPath\": \"/opt/ml/processing/evaluation\", \"S3UploadMode\": \"EndOfJob\"}}]}, \"NetworkConfig\": {\"EnableNetworkIsolation\": false, \"VpcConfig\": {\"SecurityGroupIds\": [\"sg-0cc113a078fb1b90a\"], \"Subnets\": [\"subnet-0a7e6c8002183f891\", \"subnet-0affcee975da0032f\", \"subnet-0e411c710311dfd23\", \"subnet-0de3041d8f9ab07f8\"]}}}, \"PropertyFiles\": [{\"PropertyFileName\": \"ChurnEvaluationReport\", \"OutputName\": \"evaluation\", \"FilePath\": \"evaluation.json\"}]}, {\"Name\": \"CheckAUCScoreChurnEvaluation\", \"Type\": \"Condition\", \"Arguments\": {\"Conditions\": [{\"Type\": \"GreaterThan\", \"LeftValue\": {\"Std:JsonGet\": {\"PropertyFile\": {\"Get\": \"Steps.ChurnEvalBestModel.PropertyFiles.ChurnEvaluationReport\"}, \"Path\": \"classification_metrics.auc_score.value\"}}, \"RightValue\": 0.75}], \"IfSteps\": [{\"Name\": \"RegisterChurnModel-RegisterModel\", \"Type\": \"RegisterModel\", \"Arguments\": {\"ModelPackageGroupName\": \"ChurnModelPackageGroup\", \"ModelMetrics\": {\"ModelQuality\": {\"Statistics\": {\"ContentType\": \"application/json\", \"S3Uri\": \"s3://amazon-sagemaker-438465168169-us-east-1-e9eb0fb68840/dzd_4gqe4c7fmeaa5j/dey1k5789rqn1j/dev/evaluation.json\"}}, \"Bias\": {}, \"Explainability\": {}}, \"InferenceSpecification\": {\"Containers\": [{\"Image\": \"683313688378.dkr.ecr.us-east-1.amazonaws.com/sagemaker-xgboost:1.0-1-cpu-py3\", \"ModelDataUrl\": {\"Std:Join\": {\"On\": \"/\", \"Values\": [\"s3:/\", \"amazon-sagemaker-438465168169-us-east-1-e9eb0fb68840/dzd_4gqe4c7fmeaa5j/dey1k5789rqn1j/dev\", \"output\", {\"Get\": \"Steps.ChurnHyperParameterTuning.TrainingJobSummaries[0].TrainingJobName\"}, \"output/model.tar.gz\"]}}}], \"SupportedContentTypes\": [\"text/csv\"], \"SupportedResponseMIMETypes\": [\"text/csv\"], \"SupportedRealtimeInferenceInstanceTypes\": [\"ml.t2.medium\", \"ml.c4.xlarge\"], \"SupportedTransformInstanceTypes\": [\"ml.c4.xlarge\"]}, \"ModelApprovalStatus\": \"PendingManualApproval\", \"SkipModelValidation\": \"None\"}}, {\"Name\": \"ChurnCreateModel\", \"Type\": \"Model\", \"Arguments\": {\"ExecutionRoleArn\": \"arn:aws:iam::438465168169:role/datazone_usr_role_dey1k5789rqn1j_6lz335u9nebcx3\", \"PrimaryContainer\": {\"Image\": \"683313688378.dkr.ecr.us-east-1.amazonaws.com/sagemaker-xgboost:1.0-1-cpu-py3\", \"Environment\": {}, \"ModelDataUrl\": {\"Std:Join\": {\"On\": \"/\", \"Values\": [\"s3:/\", \"amazon-sagemaker-438465168169-us-east-1-e9eb0fb68840/dzd_4gqe4c7fmeaa5j/dey1k5789rqn1j/dev\", \"output\", {\"Get\": \"Steps.ChurnHyperParameterTuning.TrainingJobSummaries[0].TrainingJobName\"}, \"output/model.tar.gz\"]}}}, \"VpcConfig\": {\"SecurityGroupIds\": [\"sg-0cc113a078fb1b90a\"], \"Subnets\": [\"subnet-0a7e6c8002183f891\", \"subnet-0affcee975da0032f\", \"subnet-0e411c710311dfd23\", \"subnet-0de3041d8f9ab07f8\"]}}}, {\"Name\": \"ChurnModelConfigFile\", \"Type\": \"Processing\", \"Arguments\": {\"ProcessingResources\": {\"ClusterConfig\": {\"InstanceType\": {\"Get\": \"Parameters.ProcessingInstanceType\"}, \"InstanceCount\": 1, \"VolumeSizeInGB\": 30}}, \"AppSpecification\": {\"ImageUri\": \"683313688378.dkr.ecr.us-east-1.amazonaws.com/sagemaker-scikit-learn:0.23-1-cpu-py3\", \"ContainerArguments\": [\"--modelname\", {\"Get\": \"Steps.ChurnCreateModel.ModelName\"}, \"--bias-report-output-path\", \"s3://amazon-sagemaker-438465168169-us-east-1-e9eb0fb68840/dzd_4gqe4c7fmeaa5j/dey1k5789rqn1j/dev/clarify-output/bias\", \"--clarify-instance-type\", \"ml.c5.xlarge\", \"--default-bucket\", \"amazon-sagemaker-438465168169-us-east-1-e9eb0fb68840/dzd_4gqe4c7fmeaa5j/dey1k5789rqn1j/dev\", \"--num-baseline-samples\", \"50\", \"--instance-count\", \"1\"], \"ContainerEntrypoint\": [\"python3\", \"/opt/ml/processing/input/code/generate_config.py\"]}, \"RoleArn\": \"arn:aws:iam::438465168169:role/datazone_usr_role_dey1k5789rqn1j_6lz335u9nebcx3\", \"ProcessingInputs\": [{\"InputName\": \"code\", \"AppManaged\": false, \"S3Input\": {\"S3Uri\": \"s3://amazon-sagemaker-438465168169-us-east-1-e9eb0fb68840/dzd_4gqe4c7fmeaa5j/dey1k5789rqn1j/dev/input/code/generate_config.py\", \"LocalPath\": \"/opt/ml/processing/input/code\", \"S3DataType\": \"S3Prefix\", \"S3InputMode\": \"File\", \"S3DataDistributionType\": \"FullyReplicated\", \"S3CompressionType\": \"None\"}}], \"NetworkConfig\": {\"EnableNetworkIsolation\": false, \"VpcConfig\": {\"SecurityGroupIds\": [\"sg-0cc113a078fb1b90a\"], \"Subnets\": [\"subnet-0a7e6c8002183f891\", \"subnet-0affcee975da0032f\", \"subnet-0e411c710311dfd23\", \"subnet-0de3041d8f9ab07f8\"]}}}, \"DependsOn\": [\"ChurnCreateModel\"]}, {\"Name\": \"ChurnTransform\", \"Type\": \"Transform\", \"Arguments\": {\"ModelName\": {\"Get\": \"Steps.ChurnCreateModel.ModelName\"}, \"TransformInput\": {\"DataSource\": {\"S3DataSource\": {\"S3DataType\": \"S3Prefix\", \"S3Uri\": {\"Get\": \"Parameters.BatchData\"}}}, \"ContentType\": \"text/csv\"}, \"TransformOutput\": {\"S3OutputPath\": \"s3://amazon-sagemaker-438465168169-us-east-1-e9eb0fb68840/dzd_4gqe4c7fmeaa5j/dey1k5789rqn1j/dev/ChurnTransform\"}, \"TransformResources\": {\"InstanceCount\": 1, \"InstanceType\": \"ml.c4.xlarge\"}}}, {\"Name\": \"ClarifyProcessingStep\", \"Type\": \"Processing\", \"Arguments\": {\"ProcessingResources\": {\"ClusterConfig\": {\"InstanceType\": \"ml.c5.xlarge\", \"InstanceCount\": 1, \"VolumeSizeInGB\": 30}}, \"AppSpecification\": {\"ImageUri\": \"205585389593.dkr.ecr.us-east-1.amazonaws.com/sagemaker-clarify-processing:1.0\"}, \"RoleArn\": \"arn:aws:iam::438465168169:role/datazone_usr_role_dey1k5789rqn1j_6lz335u9nebcx3\", \"ProcessingInputs\": [{\"InputName\": \"dataset\", \"AppManaged\": false, \"S3Input\": {\"S3Uri\": \"s3://amazon-sagemaker-438465168169-us-east-1-e9eb0fb68840/dzd_4gqe4c7fmeaa5j/dey1k5789rqn1j/dev/output/train/train.csv\", \"LocalPath\": \"/opt/ml/processing/input/data\", \"S3DataType\": \"S3Prefix\", \"S3InputMode\": \"File\", \"S3DataDistributionType\": \"FullyReplicated\", \"S3CompressionType\": \"None\"}}, {\"InputName\": \"analysis_config\", \"AppManaged\": false, \"S3Input\": {\"S3Uri\": \"s3://amazon-sagemaker-438465168169-us-east-1-e9eb0fb68840/dzd_4gqe4c7fmeaa5j/dey1k5789rqn1j/dev/clarify-output/bias/analysis_config.json\", \"LocalPath\": \"/opt/ml/processing/input/analysis_config\", \"S3DataType\": \"S3Prefix\", \"S3InputMode\": \"File\", \"S3DataDistributionType\": \"FullyReplicated\", \"S3CompressionType\": \"None\"}}], \"ProcessingOutputConfig\": {\"Outputs\": [{\"OutputName\": \"analysis_result\", \"AppManaged\": false, \"S3Output\": {\"S3Uri\": \"s3://amazon-sagemaker-438465168169-us-east-1-e9eb0fb68840/dzd_4gqe4c7fmeaa5j/dey1k5789rqn1j/dev/clarify-output/bias\", \"LocalPath\": \"/opt/ml/processing/output\", \"S3UploadMode\": \"EndOfJob\"}}]}, \"NetworkConfig\": {\"EnableNetworkIsolation\": false, \"VpcConfig\": {\"SecurityGroupIds\": [\"sg-0cc113a078fb1b90a\"], \"Subnets\": [\"subnet-0a7e6c8002183f891\", \"subnet-0affcee975da0032f\", \"subnet-0e411c710311dfd23\", \"subnet-0de3041d8f9ab07f8\"]}}}, \"DependsOn\": [\"ChurnModelConfigFile\"]}], \"ElseSteps\": []}}]}'"
      ]
     },
     "execution_count": 119,
     "metadata": {},
     "output_type": "execute_result"
    }
   ],
   "source": [
    "pipeline.definition()"
   ]
  },
  {
   "cell_type": "markdown",
   "metadata": {},
   "source": [
    "## Step 5: Submit the pipeline to SageMaker and start execution"
   ]
  },
  {
   "cell_type": "code",
   "execution_count": 120,
   "metadata": {
    "execution": {
     "iopub.execute_input": "2025-02-14T15:02:41.487166Z",
     "iopub.status.busy": "2025-02-14T15:02:41.486341Z",
     "iopub.status.idle": "2025-02-14T15:02:44.577456Z",
     "shell.execute_reply": "2025-02-14T15:02:44.572457Z",
     "shell.execute_reply.started": "2025-02-14T15:02:41.487100Z"
    }
   },
   "outputs": [
    {
     "data": {
      "text/plain": [
       "{'PipelineArn': 'arn:aws:sagemaker:us-east-1:438465168169:pipeline/ChurnModelSMPipeline',\n",
       " 'ResponseMetadata': {'RequestId': '92dd174e-0b4a-48ed-a15c-c197bc1a909f',\n",
       "  'HTTPStatusCode': 200,\n",
       "  'HTTPHeaders': {'x-amzn-requestid': '92dd174e-0b4a-48ed-a15c-c197bc1a909f',\n",
       "   'content-type': 'application/x-amz-json-1.1',\n",
       "   'content-length': '88',\n",
       "   'date': 'Fri, 14 Feb 2025 15:02:44 GMT'},\n",
       "  'RetryAttempts': 0}}"
      ]
     },
     "execution_count": 120,
     "metadata": {},
     "output_type": "execute_result"
    }
   ],
   "source": [
    "pipeline.upsert(role_arn=role)"
   ]
  },
  {
   "cell_type": "markdown",
   "metadata": {},
   "source": [
    "Start Pipeline Execution"
   ]
  },
  {
   "cell_type": "code",
   "execution_count": 121,
   "metadata": {
    "execution": {
     "iopub.execute_input": "2025-02-14T15:02:44.590215Z",
     "iopub.status.busy": "2025-02-14T15:02:44.589783Z",
     "iopub.status.idle": "2025-02-14T15:02:44.822302Z",
     "shell.execute_reply": "2025-02-14T15:02:44.820958Z",
     "shell.execute_reply.started": "2025-02-14T15:02:44.590182Z"
    }
   },
   "outputs": [],
   "source": [
    "execution = pipeline.start()"
   ]
  },
  {
   "cell_type": "markdown",
   "metadata": {},
   "source": [
    "Now we describe execution instance and list the steps in the execution to find out more about the execution."
   ]
  },
  {
   "cell_type": "code",
   "execution_count": 144,
   "metadata": {
    "execution": {
     "iopub.execute_input": "2025-02-14T15:11:51.926093Z",
     "iopub.status.busy": "2025-02-14T15:11:51.925475Z",
     "iopub.status.idle": "2025-02-14T15:11:52.029334Z",
     "shell.execute_reply": "2025-02-14T15:11:52.025080Z",
     "shell.execute_reply.started": "2025-02-14T15:11:51.926056Z"
    }
   },
   "outputs": [
    {
     "data": {
      "text/plain": [
       "{'PipelineArn': 'arn:aws:sagemaker:us-east-1:438465168169:pipeline/ChurnModelSMPipeline',\n",
       " 'PipelineExecutionArn': 'arn:aws:sagemaker:us-east-1:438465168169:pipeline/ChurnModelSMPipeline/execution/858kbwryna9p',\n",
       " 'PipelineExecutionDisplayName': 'execution-1739545364790',\n",
       " 'PipelineExecutionStatus': 'Executing',\n",
       " 'PipelineExperimentConfig': {'ExperimentName': 'churnmodelsmpipeline',\n",
       "  'TrialName': '858kbwryna9p'},\n",
       " 'CreationTime': datetime.datetime(2025, 2, 14, 15, 2, 44, 680000, tzinfo=tzlocal()),\n",
       " 'LastModifiedTime': datetime.datetime(2025, 2, 14, 15, 2, 44, 680000, tzinfo=tzlocal()),\n",
       " 'CreatedBy': {'UserProfileArn': 'arn:aws:sagemaker:us-east-1:438465168169:user-profile/d-69qrstv0krfc/e37b481b-6b4c-4419-848a-2a0a5995e4a1',\n",
       "  'UserProfileName': 'e37b481b-6b4c-4419-848a-2a0a5995e4a1',\n",
       "  'DomainId': 'd-69qrstv0krfc',\n",
       "  'IamIdentity': {'Arn': 'arn:aws:sts::438465168169:assumed-role/datazone_usr_role_dey1k5789rqn1j_6lz335u9nebcx3/SageMaker',\n",
       "   'PrincipalId': 'AROAWMFUPQMUQ5FX4ZXVN:SageMaker',\n",
       "   'SourceIdentity': 'e37b481b-6b4c-4419-848a-2a0a5995e4a1'}},\n",
       " 'LastModifiedBy': {'UserProfileArn': 'arn:aws:sagemaker:us-east-1:438465168169:user-profile/d-69qrstv0krfc/e37b481b-6b4c-4419-848a-2a0a5995e4a1',\n",
       "  'UserProfileName': 'e37b481b-6b4c-4419-848a-2a0a5995e4a1',\n",
       "  'DomainId': 'd-69qrstv0krfc',\n",
       "  'IamIdentity': {'Arn': 'arn:aws:sts::438465168169:assumed-role/datazone_usr_role_dey1k5789rqn1j_6lz335u9nebcx3/SageMaker',\n",
       "   'PrincipalId': 'AROAWMFUPQMUQ5FX4ZXVN:SageMaker',\n",
       "   'SourceIdentity': 'e37b481b-6b4c-4419-848a-2a0a5995e4a1'}},\n",
       " 'ResponseMetadata': {'RequestId': '4506b308-9e2a-4d5b-b0d7-47c9662f9a37',\n",
       "  'HTTPStatusCode': 200,\n",
       "  'HTTPHeaders': {'x-amzn-requestid': '4506b308-9e2a-4d5b-b0d7-47c9662f9a37',\n",
       "   'content-type': 'application/x-amz-json-1.1',\n",
       "   'content-length': '1367',\n",
       "   'date': 'Fri, 14 Feb 2025 15:11:52 GMT'},\n",
       "  'RetryAttempts': 0}}"
      ]
     },
     "execution_count": 144,
     "metadata": {},
     "output_type": "execute_result"
    }
   ],
   "source": [
    "execution.describe()"
   ]
  },
  {
   "cell_type": "markdown",
   "metadata": {},
   "source": [
    "We can list the execution steps to check out the status and artifacts:"
   ]
  },
  {
   "cell_type": "code",
   "execution_count": 145,
   "metadata": {
    "execution": {
     "iopub.execute_input": "2025-02-14T15:12:00.324635Z",
     "iopub.status.busy": "2025-02-14T15:12:00.324162Z",
     "iopub.status.idle": "2025-02-14T15:12:00.447323Z",
     "shell.execute_reply": "2025-02-14T15:12:00.446514Z",
     "shell.execute_reply.started": "2025-02-14T15:12:00.324599Z"
    }
   },
   "outputs": [
    {
     "data": {
      "text/plain": [
       "[{'StepName': 'ChurnModelConfigFile',\n",
       "  'StartTime': datetime.datetime(2025, 2, 14, 15, 11, 51, 142000, tzinfo=tzlocal()),\n",
       "  'StepStatus': 'Executing',\n",
       "  'Metadata': {'ProcessingJob': {'Arn': 'arn:aws:sagemaker:us-east-1:438465168169:processing-job/pipelines-858kbwryna9p-ChurnModelConfigFile-ymyiO46N7u'}},\n",
       "  'AttemptCount': 1},\n",
       " {'StepName': 'ChurnTransform',\n",
       "  'StartTime': datetime.datetime(2025, 2, 14, 15, 11, 51, 142000, tzinfo=tzlocal()),\n",
       "  'EndTime': datetime.datetime(2025, 2, 14, 15, 11, 53, 101000, tzinfo=tzlocal()),\n",
       "  'StepStatus': 'Failed',\n",
       "  'FailureReason': \"ClientError: Failed to invoke sagemaker:CreateTransformJob. Error Details: The account-level service limit 'ml.c4.xlarge for transform job usage' is 0 Instances, with current utilization of 0 Instances and a request delta of 1 Instances. Please use AWS Service Quotas to request an increase for this quota. If AWS Service Quotas is not available, contact AWS support to request an increase for this quota.\\nRetry not appropriate on execution of step with PipelineExecutionArn arn:aws:sagemaker:us-east-1:438465168169:pipeline/churnmodelsmpipeline/execution/858kbwryna9p and StepId ChurnTransform. No retry policy configured for the exception type SAGEMAKER_RESOURCE_LIMIT.\",\n",
       "  'Metadata': {},\n",
       "  'AttemptCount': 1},\n",
       " {'StepName': 'RegisterChurnModel-RegisterModel',\n",
       "  'StartTime': datetime.datetime(2025, 2, 14, 15, 11, 48, 657000, tzinfo=tzlocal()),\n",
       "  'EndTime': datetime.datetime(2025, 2, 14, 15, 11, 50, 32000, tzinfo=tzlocal()),\n",
       "  'StepStatus': 'Succeeded',\n",
       "  'Metadata': {'RegisterModel': {'Arn': 'arn:aws:sagemaker:us-east-1:438465168169:model-package/ChurnModelPackageGroup/1'}},\n",
       "  'AttemptCount': 1},\n",
       " {'StepName': 'ChurnCreateModel',\n",
       "  'StartTime': datetime.datetime(2025, 2, 14, 15, 11, 48, 657000, tzinfo=tzlocal()),\n",
       "  'EndTime': datetime.datetime(2025, 2, 14, 15, 11, 50, 431000, tzinfo=tzlocal()),\n",
       "  'StepStatus': 'Succeeded',\n",
       "  'Metadata': {'Model': {'Arn': 'arn:aws:sagemaker:us-east-1:438465168169:model/pipelines-858kbwryna9p-ChurnCreateModel-b567dU3rAz'}},\n",
       "  'AttemptCount': 1},\n",
       " {'StepName': 'CheckAUCScoreChurnEvaluation',\n",
       "  'StartTime': datetime.datetime(2025, 2, 14, 15, 11, 47, 666000, tzinfo=tzlocal()),\n",
       "  'EndTime': datetime.datetime(2025, 2, 14, 15, 11, 48, 176000, tzinfo=tzlocal()),\n",
       "  'StepStatus': 'Succeeded',\n",
       "  'Metadata': {'Condition': {'Outcome': 'True'}},\n",
       "  'AttemptCount': 1},\n",
       " {'StepName': 'ChurnEvalBestModel',\n",
       "  'StartTime': datetime.datetime(2025, 2, 14, 15, 9, 13, 910000, tzinfo=tzlocal()),\n",
       "  'EndTime': datetime.datetime(2025, 2, 14, 15, 11, 46, 894000, tzinfo=tzlocal()),\n",
       "  'StepStatus': 'Succeeded',\n",
       "  'Metadata': {'ProcessingJob': {'Arn': 'arn:aws:sagemaker:us-east-1:438465168169:processing-job/pipelines-858kbwryna9p-ChurnEvalBestModel-U7Uvpqiabd'}},\n",
       "  'AttemptCount': 1},\n",
       " {'StepName': 'ChurnHyperParameterTuning',\n",
       "  'StartTime': datetime.datetime(2025, 2, 14, 15, 6, 15, 638000, tzinfo=tzlocal()),\n",
       "  'EndTime': datetime.datetime(2025, 2, 14, 15, 9, 13, 343000, tzinfo=tzlocal()),\n",
       "  'StepStatus': 'Succeeded',\n",
       "  'Metadata': {'TuningJob': {'Arn': 'arn:aws:sagemaker:us-east-1:438465168169:hyper-parameter-tuning-job/858kbwryna9p-ChurnHyp-H7lsSSNG84'}},\n",
       "  'AttemptCount': 1},\n",
       " {'StepName': 'ChurnModelProcess',\n",
       "  'StartTime': datetime.datetime(2025, 2, 14, 15, 2, 45, 973000, tzinfo=tzlocal()),\n",
       "  'EndTime': datetime.datetime(2025, 2, 14, 15, 6, 14, 767000, tzinfo=tzlocal()),\n",
       "  'StepStatus': 'Succeeded',\n",
       "  'Metadata': {'ProcessingJob': {'Arn': 'arn:aws:sagemaker:us-east-1:438465168169:processing-job/pipelines-858kbwryna9p-ChurnModelProcess-rqtN9UL9mE'}},\n",
       "  'AttemptCount': 1}]"
      ]
     },
     "execution_count": 145,
     "metadata": {},
     "output_type": "execute_result"
    }
   ],
   "source": [
    "execution.list_steps()"
   ]
  },
  {
   "cell_type": "code",
   "execution_count": null,
   "metadata": {},
   "outputs": [],
   "source": []
  }
 ],
 "metadata": {
  "instance_type": "ml.t3.medium",
  "kernelspec": {
   "display_name": "Python 3 (ipykernel)",
   "language": "python",
   "name": "python3"
  },
  "language_info": {
   "codemirror_mode": {
    "name": "ipython",
    "version": 3
   },
   "file_extension": ".py",
   "mimetype": "text/x-python",
   "name": "python",
   "nbconvert_exporter": "python",
   "pygments_lexer": "ipython3",
   "version": "3.11.11"
  }
 },
 "nbformat": 4,
 "nbformat_minor": 4
}
